{
 "cells": [
  {
   "cell_type": "code",
   "execution_count": null,
   "id": "bb9518a7",
   "metadata": {},
   "outputs": [],
   "source": [
    "import pandas as pd\n",
    "import numpy as np\n",
    "import seaborn as sns\n",
    "from matplotlib import pyplot\n",
    "import os\n",
    "\n",
    "data_dir = \"data/\"\n",
    "data = []\n",
    "for file in os.listdir(data_dir):\n",
    "    data_raw = pd.read_excel(data_dir + file, skiprows=4)\n",
    "    data_raw.columns = [column.lower().replace(\"\\n\", \"_\").replace(\" \", \"_\").replace(\"-\", \"_\").strip() for column in data_raw.columns]\n",
    "    data.append(data_raw)\n",
    "\n",
    "\n",
    "data = pd.concat(data)\n",
    "data.rename(columns={'apart_ment_number':'apartment_number'}, inplace=True)\n",
    "print(data.columns)"
   ]
  },
  {
   "cell_type": "code",
   "execution_count": null,
   "id": "ad43006d",
   "metadata": {},
   "outputs": [],
   "source": []
  }
 ],
 "metadata": {
  "kernelspec": {
   "display_name": "Python 3 (ipykernel)",
   "language": "python",
   "name": "python3"
  },
  "language_info": {
   "codemirror_mode": {
    "name": "ipython",
    "version": 3
   },
   "file_extension": ".py",
   "mimetype": "text/x-python",
   "name": "python",
   "nbconvert_exporter": "python",
   "pygments_lexer": "ipython3",
   "version": "3.9.13"
  }
 },
 "nbformat": 4,
 "nbformat_minor": 5
}
